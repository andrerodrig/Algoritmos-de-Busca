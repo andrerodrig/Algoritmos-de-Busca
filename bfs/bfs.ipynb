{
 "cells": [
  {
   "cell_type": "markdown",
   "metadata": {},
   "source": [
    "# Busca em Largura (Breadth First Search)\n",
    "A Busca em Largura busca em camadas, ou seja, procura primeiro pelos nós mais rasos da árvore. A estrutura de dados chave usada por este algorítmo de busca é a fila. O primeiro nó inserido na fila é, também, o primeiro a sair."
   ]
  },
  {
   "cell_type": "code",
   "execution_count": 110,
   "metadata": {},
   "outputs": [],
   "source": [
    "import networkx as nx\n",
    "import matplotlib.pyplot as plt\n",
    "from bfs import bfs"
   ]
  },
  {
   "cell_type": "code",
   "execution_count": 123,
   "metadata": {},
   "outputs": [
    {
     "data": {
      "image/png": "[encoded data removed]",
      "text/plain": [
       "<Figure size 432x288 with 1 Axes>"
      ]
     },
     "metadata": {},
     "output_type": "display_data"
    }
   ],
   "source": [
    "graph = {\n",
    "    1: [2, 5, 6],\n",
    "    2: [3, 7],\n",
    "    3: [4, 8]\n",
    "}\n",
    "\n",
    "G = nx.DiGraph(graph)\n",
    "\n",
    "plt.plot()\n",
    "nx.draw(G, with_labels=True)"
   ]
  },
  {
   "cell_type": "code",
   "execution_count": 112,
   "metadata": {},
   "outputs": [],
   "source": [
    "list_search = list(G.nodes(data=True))"
   ]
  },
  {
   "cell_type": "code",
   "execution_count": 113,
   "metadata": {},
   "outputs": [],
   "source": [
    "G.nodes[1]['value'] = 500\n",
    "G.nodes[2]['value'] = 5\n",
    "G.nodes[3]['value'] = 10\n",
    "G.nodes[4]['value'] = 60\n",
    "G.nodes[5]['value'] = 670\n",
    "G.nodes[6]['value'] = 100\n",
    "G.nodes[7]['value'] = 200\n",
    "G.nodes[8]['value'] = 300"
   ]
  },
  {
   "cell_type": "code",
   "execution_count": 114,
   "metadata": {},
   "outputs": [
    {
     "data": {
      "text/plain": [
       "NodeDataView({1: {'value': 500}, 2: {'value': 5}, 3: {'value': 10}, 5: {'value': 670}, 6: {'value': 100}, 7: {'value': 200}, 4: {'value': 60}, 8: {'value': 300}})"
      ]
     },
     "execution_count": 114,
     "metadata": {},
     "output_type": "execute_result"
    }
   ],
   "source": [
    "G.nodes(data=True)"
   ]
  },
  {
   "cell_type": "code",
   "execution_count": 115,
   "metadata": {},
   "outputs": [
    {
     "data": {
      "text/plain": [
       "AtlasView({2: {}, 5: {}, 6: {}})"
      ]
     },
     "execution_count": 115,
     "metadata": {},
     "output_type": "execute_result"
    }
   ],
   "source": [
    "from collections import deque\n",
    "\n",
    "root = list_search[0]\n",
    "queue = deque()\n",
    "queue.append(root)\n",
    "G.adj[1]"
   ]
  },
  {
   "cell_type": "code",
   "execution_count": 116,
   "metadata": {},
   "outputs": [],
   "source": [
    "viewed = []\n",
    "node = queue.popleft()\n",
    "viewed.append(node)\n",
    "queue.extend([\n",
    "    (el, G.nodes[el]) for el in G.adj[node[0]]\n",
    "    if (el, G.nodes[el]) not in viewed and (el, G.nodes[el]) not in queue\n",
    "])"
   ]
  },
  {
   "cell_type": "code",
   "execution_count": 118,
   "metadata": {},
   "outputs": [
    {
     "data": {
      "text/plain": [
       "deque([(2, {'value': 5}), (5, {'value': 670}), (6, {'value': 100})])"
      ]
     },
     "execution_count": 118,
     "metadata": {},
     "output_type": "execute_result"
    }
   ],
   "source": [
    "queue"
   ]
  },
  {
   "cell_type": "code",
   "execution_count": 119,
   "metadata": {},
   "outputs": [
    {
     "data": {
      "text/plain": [
       "(2, {'value': 5})"
      ]
     },
     "execution_count": 119,
     "metadata": {},
     "output_type": "execute_result"
    }
   ],
   "source": [
    "node2 = queue.popleft()\n",
    "node2"
   ]
  },
  {
   "cell_type": "code",
   "execution_count": 120,
   "metadata": {},
   "outputs": [],
   "source": [
    "queue.extend([\n",
    "    (el, G.nodes[el]) for el in G.adj[node2[0]]\n",
    "    if (el, G.nodes[el]) not in viewed and (el, G.nodes[el]) not in queue\n",
    "])"
   ]
  },
  {
   "cell_type": "code",
   "execution_count": 121,
   "metadata": {},
   "outputs": [
    {
     "data": {
      "text/plain": [
       "deque([(5, {'value': 670}),\n",
       "       (6, {'value': 100}),\n",
       "       (3, {'value': 10}),\n",
       "       (7, {'value': 200})])"
      ]
     },
     "execution_count": 121,
     "metadata": {},
     "output_type": "execute_result"
    }
   ],
   "source": [
    "queue"
   ]
  },
  {
   "cell_type": "code",
   "execution_count": 147,
   "metadata": {},
   "outputs": [
    {
     "data": {
      "text/plain": [
       "[1, 6, 5, 2, 7, 3, 8, 4]"
      ]
     },
     "execution_count": 147,
     "metadata": {},
     "output_type": "execute_result"
    }
   ],
   "source": [
    "list(nx.topological_sort(G))"
   ]
  },
  {
   "cell_type": "code",
   "execution_count": null,
   "metadata": {},
   "outputs": [],
   "source": []
  }
 ],
 "metadata": {
  "kernelspec": {
   "display_name": "Python 3",
   "language": "python",
   "name": "python3"
  },
  "language_info": {
   "codemirror_mode": {
    "name": "ipython",
    "version": 3
   },
   "file_extension": ".py",
   "mimetype": "text/x-python",
   "name": "python",
   "nbconvert_exporter": "python",
   "pygments_lexer": "ipython3",
   "version": "3.7.5"
  }
 },
 "nbformat": 4,
 "nbformat_minor": 4
}
